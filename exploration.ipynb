{
 "cells": [
  {
   "cell_type": "code",
   "execution_count": 21,
   "metadata": {},
   "outputs": [],
   "source": [
    "import pandas as pd\n",
    "from sklearn.svm import SVC\n",
    "from sklearn.model_selection import train_test_split\n",
    "from sklearn.metrics import accuracy_score\n",
    "from sklearn.preprocessing import StandardScaler"
   ]
  },
  {
   "cell_type": "code",
   "execution_count": 35,
   "id": "80b87e59",
   "metadata": {},
   "outputs": [],
   "source": [
    "mri = pd.read_csv('unrestricted_hcp_freesurfer.csv', index_col='Subject')\n",
    "behav = pd.read_csv('hcp_behavioral_data.csv', index_col='Subject')\n",
    "joined = mri.join(behav, how='inner', lsuffix='_mri', rsuffix='_behav')"
   ]
  },
  {
   "cell_type": "code",
   "execution_count": 40,
   "id": "06758b9b",
   "metadata": {},
   "outputs": [],
   "source": [
    "# Setup X and y\n",
    "y = joined['Gender_mri']\n",
    "X = joined.drop(['Gender_mri', 'Gender_behav'], axis=1)\n",
    "\n",
    "# Choose only numeric columns\n",
    "X = X.select_dtypes(include=['number'])"
   ]
  },
  {
   "cell_type": "code",
   "execution_count": 50,
   "id": "4062974b",
   "metadata": {},
   "outputs": [],
   "source": [
    "# Run rbf kernel svm on the data\n",
    "\n",
    "# Split the data into training and test sets\n",
    "X_train, X_test, y_train, y_test = train_test_split(X, y, test_size=0.2, random_state=42)"
   ]
  },
  {
   "cell_type": "code",
   "execution_count": 51,
   "id": "bd44f787",
   "metadata": {},
   "outputs": [
    {
     "name": "stdout",
     "output_type": "stream",
     "text": [
      "Index([], dtype='object')\n"
     ]
    }
   ],
   "source": [
    "# print only string columns\n",
    "print(X_test.select_dtypes(include=['object']).columns)\n",
    "# train['NEORAW_01']"
   ]
  },
  {
   "cell_type": "code",
   "execution_count": 52,
   "id": "5917a66c",
   "metadata": {},
   "outputs": [],
   "source": [
    "# Scale the data\n",
    "\n",
    "scaler = StandardScaler()\n",
    "scaler.fit(X_train)\n",
    "X_train = scaler.transform(X_train)\n",
    "X_test = scaler.transform(X_test)"
   ]
  },
  {
   "cell_type": "code",
   "execution_count": null,
   "id": "aa5f311e",
   "metadata": {},
   "outputs": [],
   "source": [
    "# Fit the model\n",
    "clf = SVC(kernel='rbf')\n",
    "clf.fit(X_train, y_train)\n",
    "# Calculate training accuracy\n",
    "y_pred = clf.predict(X_train)\n",
    "print(\"TRAIN:\")\n",
    "print(accuracy_score(y_train, y_pred))\n",
    "\n",
    "# Predict the test set\n",
    "y_pred = clf.predict(X_test)\n",
    "print(\"TEST:\")\n",
    "print(accuracy_score(y_test, y_pred))"
   ]
  }
 ],
 "metadata": {
  "kernelspec": {
   "display_name": "ml_neuro",
   "language": "python",
   "name": "python3"
  },
  "language_info": {
   "codemirror_mode": {
    "name": "ipython",
    "version": 3
   },
   "file_extension": ".py",
   "mimetype": "text/x-python",
   "name": "python",
   "nbconvert_exporter": "python",
   "pygments_lexer": "ipython3",
   "version": "3.10.8"
  },
  "vscode": {
   "interpreter": {
    "hash": "8c020a663c6a1a4fb216926ceee8df41008d49ffd9e76f5c5b63cec2ae48773c"
   }
  }
 },
 "nbformat": 4,
 "nbformat_minor": 5
}
